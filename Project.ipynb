{
  "metadata": {
    "kernelspec": {
      "name": "python",
      "display_name": "Python (Pyodide)",
      "language": "python"
    },
    "language_info": {
      "codemirror_mode": {
        "name": "python",
        "version": 3
      },
      "file_extension": ".py",
      "mimetype": "text/x-python",
      "name": "python",
      "nbconvert_exporter": "python",
      "pygments_lexer": "ipython3",
      "version": "3.8"
    }
  },
  "nbformat_minor": 4,
  "nbformat": 4,
  "cells": [
    {
      "cell_type": "markdown",
      "source": "# Data Science Tools and Ecosystem",
      "metadata": {}
    },
    {
      "cell_type": "markdown",
      "source": "In this notebook, we shall summarise Data Science Tools and their Ecosystems.",
      "metadata": {}
    },
    {
      "cell_type": "markdown",
      "source": "Some popular languages used by Data Scientists include:\n\n1. Python\n2. R\n3. SQL\n4. Java\n5. C++\n6. Julia",
      "metadata": {}
    },
    {
      "cell_type": "markdown",
      "source": "Some libraries commonly used by Data Scientists include:\n\n1. Pandas\n2. Numpy\n3. Seaborn\n4. Keras\n5. TensorFlow\n6. Matplotlib",
      "metadata": {}
    },
    {
      "cell_type": "markdown",
      "source": "|Data Science Tools|\n|---|\n|Anaconda|\n|Jupyter Notebook|\n|R Studio|\n|Spyder|\n|Zeppelin|",
      "metadata": {}
    },
    {
      "cell_type": "markdown",
      "source": "### Here are a few examples showing how we can evaluate arithmetic expressions in Python",
      "metadata": {}
    },
    {
      "cell_type": "code",
      "source": "# This is a simple arithmetic expression to multiply and add integers\n(3*4)+5",
      "metadata": {
        "trusted": true
      },
      "outputs": [
        {
          "execution_count": 2,
          "output_type": "execute_result",
          "data": {
            "text/plain": "17"
          },
          "metadata": {}
        }
      ],
      "execution_count": 2
    },
    {
      "cell_type": "code",
      "source": "#This will convert 200 minutes to hours by dividng 200 by 60.\n200/60\n",
      "metadata": {
        "trusted": true
      },
      "outputs": [
        {
          "execution_count": 4,
          "output_type": "execute_result",
          "data": {
            "text/plain": "3.3333333333333335"
          },
          "metadata": {}
        }
      ],
      "execution_count": 4
    },
    {
      "cell_type": "markdown",
      "source": "### Objectives:\n\n* Add comments to coding cells\n* Create markdown cells\n* Add both ordered and unordered lists to markdown cells\n* Format content of markdown calls with specific heading styles\n",
      "metadata": {}
    },
    {
      "cell_type": "markdown",
      "source": "#### Author:\nST",
      "metadata": {}
    },
    {
      "cell_type": "code",
      "source": "",
      "metadata": {
        "trusted": true
      },
      "outputs": [],
      "execution_count": null
    }
  ]
}